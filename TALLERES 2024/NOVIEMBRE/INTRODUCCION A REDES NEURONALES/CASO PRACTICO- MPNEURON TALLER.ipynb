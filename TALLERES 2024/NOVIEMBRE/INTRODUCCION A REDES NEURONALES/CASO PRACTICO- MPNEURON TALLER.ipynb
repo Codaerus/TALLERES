{
 "cells": [
  {
   "cell_type": "markdown",
   "id": "03a255f1-759b-44af-b8dc-afcdc8b2f8a1",
   "metadata": {},
   "source": [
    "**1. Implementación de la MPNeuron**"
   ]
  },
  {
   "cell_type": "code",
   "execution_count": 12,
   "id": "11c275b9-47b1-4131-a155-107cc18fc10f",
   "metadata": {},
   "outputs": [],
   "source": [
    "import numpy as np\n",
    "\n",
    "class MPNeuron:\n",
    "    def __init__(self):\n",
    "        self.threshold = None\n",
    "    def model(self,x):\n",
    "        return (sum(x)>=self.threshold)\n",
    "    def predict(self,X):\n",
    "        Y = []\n",
    "        for x in X:\n",
    "            result = self.model(x)\n",
    "            Y.append(result)\n",
    "        return Y"
   ]
  },
  {
   "cell_type": "code",
   "execution_count": 13,
   "id": "eca07532-67a8-45f6-90ba-cc5dfdb5b274",
   "metadata": {},
   "outputs": [],
   "source": [
    "#instanciamos la clase\n",
    "mp_neuron = MPNeuron()"
   ]
  },
  {
   "cell_type": "code",
   "execution_count": 18,
   "id": "3dc0d908-3a89-4af0-8a40-c4e658352461",
   "metadata": {},
   "outputs": [],
   "source": [
    "#Establecemos el threshold\n",
    "mp_neuron.threshold = 1"
   ]
  },
  {
   "cell_type": "code",
   "execution_count": 19,
   "id": "b64003b8-beed-40a8-b0cd-8f1530a8c6da",
   "metadata": {},
   "outputs": [
    {
     "data": {
      "text/plain": [
       "[False, True, True, True]"
      ]
     },
     "execution_count": 19,
     "metadata": {},
     "output_type": "execute_result"
    }
   ],
   "source": [
    "mp_neuron.predict([[0,0,0,0],[1,1,0,0],[1,0,1,1],[1,0,0,0]])"
   ]
  },
  {
   "cell_type": "code",
   "execution_count": null,
   "id": "e9f654a3-b033-43ac-b67a-f5cef2e93e7d",
   "metadata": {},
   "outputs": [],
   "source": []
  }
 ],
 "metadata": {
  "kernelspec": {
   "display_name": "Python 3 (ipykernel)",
   "language": "python",
   "name": "python3"
  },
  "language_info": {
   "codemirror_mode": {
    "name": "ipython",
    "version": 3
   },
   "file_extension": ".py",
   "mimetype": "text/x-python",
   "name": "python",
   "nbconvert_exporter": "python",
   "pygments_lexer": "ipython3",
   "version": "3.11.9"
  }
 },
 "nbformat": 4,
 "nbformat_minor": 5
}
